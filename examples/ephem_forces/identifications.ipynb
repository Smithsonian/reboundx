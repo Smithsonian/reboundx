{
 "cells": [
  {
   "cell_type": "code",
   "execution_count": 1,
   "metadata": {},
   "outputs": [],
   "source": [
    "import numpy as np\n",
    "import pandas as pd\n",
    "pd.set_option('display.max_rows', 999)\n",
    "pd.set_option('display.width', 500)\n",
    "pd.set_option('display.notebook_repr_html', True)\n",
    "import matplotlib\n",
    "import matplotlib.pyplot as plt\n",
    "import seaborn as sns\n",
    "%matplotlib inline\n",
    "import math\n",
    "from collections import defaultdict\n",
    "from collections import Counter\n",
    "from astropy.io import fits\n",
    "\n",
    "import importlib\n",
    "import ctypes"
   ]
  },
  {
   "cell_type": "raw",
   "metadata": {},
   "source": [
    "import malloc_wrap\n",
    "\n",
    "for i in range(200):\n",
    "    if i%10==0:\n",
    "        print(i)\n",
    "    nout, times = malloc_wrap.test_function(random.randint(0,100000000))\n"
   ]
  },
  {
   "cell_type": "code",
   "execution_count": null,
   "metadata": {},
   "outputs": [],
   "source": [
    "import ephem_forces\n",
    "import demo\n"
   ]
  },
  {
   "cell_type": "code",
   "execution_count": null,
   "metadata": {},
   "outputs": [],
   "source": [
    "demo.times"
   ]
  },
  {
   "cell_type": "code",
   "execution_count": null,
   "metadata": {},
   "outputs": [],
   "source": [
    "demo.states[-1][0]"
   ]
  },
  {
   "cell_type": "code",
   "execution_count": 2,
   "metadata": {},
   "outputs": [],
   "source": [
    "\n",
    "import ephem_forces"
   ]
  },
  {
   "cell_type": "code",
   "execution_count": 3,
   "metadata": {},
   "outputs": [
    {
     "name": "stdout",
     "output_type": "stream",
     "text": [
      "144 2\n",
      "(144, 14, 6)\n",
      "Starting states:\n",
      "[[-2.09383494e+00  1.00091379e+00  4.19798464e-01 -4.22673831e-03\n",
      "  -9.12914080e-03 -3.62712151e-03]\n",
      " [-2.75462400e+00  2.96169994e+00  3.64940089e+00 -5.97258596e-03\n",
      "  -3.88620992e-03 -1.19622720e-03]]\n",
      "Start and end time:\n",
      "2456117.641933589 2456641.9724552454\n",
      "Final states:\n",
      "[[ 1.67584607e+00 -9.18996571e-01 -3.83555588e-01  7.20573340e-03\n",
      "   9.99199113e-03  3.94727721e-03]\n",
      " [-4.97011846e+00  3.78743221e-01  2.19685147e+00 -2.12179496e-03\n",
      "  -5.55054207e-03 -4.11059232e-03]]\n",
      "Fractional error:\n",
      "[[-2.73374656e-11  4.60308458e-11  4.02189393e-11  3.00832692e-11\n",
      "  -1.36655132e-11 -1.39133149e-11]\n",
      " [-3.94351218e-13  5.31069633e-11  6.02640160e-12  7.65743025e-12\n",
      "  -1.07795994e-11 -1.01487707e-11]]\n",
      "!!!Warning!!!: 2456641.9724552454!=2456618.845606319\n",
      "The end time of your integration is not the same as the end time on my system.\n",
      "The fractional error is calculated from a JPL vector at TDB 2456618.8456063187 .\n",
      "Please update the vector in the error calculation's denominator.\n"
     ]
    }
   ],
   "source": [
    "import demo_2particles"
   ]
  },
  {
   "cell_type": "code",
   "execution_count": null,
   "metadata": {},
   "outputs": [],
   "source": [
    "demo_2particles.states[:,0,:]"
   ]
  },
  {
   "cell_type": "code",
   "execution_count": null,
   "metadata": {},
   "outputs": [],
   "source": [
    "demo_2particles.times"
   ]
  },
  {
   "cell_type": "code",
   "execution_count": 4,
   "metadata": {},
   "outputs": [
    {
     "name": "stdout",
     "output_type": "stream",
     "text": [
      "144 2\n",
      "(144, 14, 6)\n",
      "Starting states:\n",
      "[[-2.09383494e+00  1.00091379e+00  4.19798464e-01 -4.22673831e-03\n",
      "  -9.12914080e-03 -3.62712151e-03]\n",
      " [-2.75462400e+00  2.96169994e+00  3.64940089e+00 -5.97258596e-03\n",
      "  -3.88620992e-03 -1.19622720e-03]]\n",
      "Start and end time:\n",
      "2456117.641933589 2456641.9724552454\n",
      "Final states:\n",
      "[[ 1.67584607e+00 -9.18996571e-01 -3.83555588e-01  7.20573340e-03\n",
      "   9.99199113e-03  3.94727721e-03]\n",
      " [-4.97011846e+00  3.78743221e-01  2.19685147e+00 -2.12179496e-03\n",
      "  -5.55054207e-03 -4.11059232e-03]]\n",
      "Fractional error:\n",
      "[[-2.73374656e-11  4.60308458e-11  4.02189393e-11  3.00832692e-11\n",
      "  -1.36655132e-11 -1.39133149e-11]\n",
      " [-3.94351218e-13  5.31069633e-11  6.02640160e-12  7.65743025e-12\n",
      "  -1.07795994e-11 -1.01487707e-11]]\n",
      "!!!Warning!!!: 2456641.9724552454!=2456618.845606319\n",
      "The end time of your integration is not the same as the end time on my system.\n",
      "The fractional error is calculated from a JPL vector at TDB 2456618.8456063187 .\n",
      "Please update the vector in the error calculation's denominator.\n"
     ]
    },
    {
     "data": {
      "text/plain": [
       "<module 'demo_2particles' from '/Users/mholman/reboundx/examples/ephem_forces/demo_2particles.py'>"
      ]
     },
     "execution_count": 4,
     "metadata": {},
     "output_type": "execute_result"
    }
   ],
   "source": [
    "importlib.reload(demo_2particles)"
   ]
  },
  {
   "cell_type": "code",
   "execution_count": null,
   "metadata": {},
   "outputs": [],
   "source": [
    "(1.9705228610653722e+00-1.970522858564949E+00)*1.5e8\n",
    "(6.4568366227497698e-01-6.456836770230201E-01)*1.5e8"
   ]
  },
  {
   "cell_type": "code",
   "execution_count": null,
   "metadata": {},
   "outputs": [],
   "source": [
    "demo_2particles.times.shape"
   ]
  },
  {
   "cell_type": "code",
   "execution_count": null,
   "metadata": {},
   "outputs": [],
   "source": [
    "demo_2particles.states[:,0,:], demo_2particles.times"
   ]
  },
  {
   "cell_type": "code",
   "execution_count": null,
   "metadata": {},
   "outputs": [],
   "source": [
    "dx= (demo.states[:,1,:]-demo.states[:,0,:])\n",
    "tdx = demo.states[:,7,:]*1e-6\n",
    "\n",
    "dy= (demo.states[:,2,:]-demo.states[:,0,:])\n",
    "tdy = demo.states[:,8,:]*1e-6\n",
    "\n",
    "dz= (demo.states[:,3,:]-demo.states[:,0,:])\n",
    "tdz = demo.states[:,9,:]*1e-6\n",
    "\n"
   ]
  },
  {
   "cell_type": "code",
   "execution_count": null,
   "metadata": {},
   "outputs": [],
   "source": [
    "tdx = demo.states[:,7,:]*1e-6\n",
    "tdy = demo.states[:,8,:]*1e-6\n",
    "tdz = demo.states[:,9,:]*1e-6\n",
    "\n"
   ]
  },
  {
   "cell_type": "code",
   "execution_count": null,
   "metadata": {},
   "outputs": [],
   "source": [
    "tangents = demo.states[:,1:,:]"
   ]
  },
  {
   "cell_type": "code",
   "execution_count": null,
   "metadata": {},
   "outputs": [],
   "source": [
    "tangents[1]"
   ]
  },
  {
   "cell_type": "code",
   "execution_count": null,
   "metadata": {},
   "outputs": [],
   "source": [
    "#plt.plot(demo.times, (tdx - dx))\n",
    "plt.plot(demo.times-demo.times[0], (tdx - dx))\n",
    "plt.plot(demo.times-demo.times[0], (tdy - dy))\n",
    "plt.plot(demo.times-demo.times[0], (tdz - dz))\n",
    "#plt.xlim(0,200)\n",
    "#plt.ylim(0, 10e-14)"
   ]
  },
  {
   "cell_type": "code",
   "execution_count": null,
   "metadata": {},
   "outputs": [],
   "source": [
    "plt.plot(demo.times-demo.times[0], (demo.states[:,6,:]-demo.states[:,0,:])[:,0]-demo.states[:,12,:][:,0]*1e-6)\n",
    "#plt.plot(demo.times-demo.times[0], demo.states[:,7,:][:,0]*1e-6)"
   ]
  },
  {
   "cell_type": "code",
   "execution_count": null,
   "metadata": {},
   "outputs": [],
   "source": [
    "plt.plot(demo.states[:,0,:][:,0], demo.states[:,0,:][:,1])\n",
    "plt.xlim(0, 4)\n",
    "plt.ylim(-1, 3)"
   ]
  },
  {
   "cell_type": "code",
   "execution_count": null,
   "metadata": {},
   "outputs": [],
   "source": [
    "del(demo.instates)\n",
    "del(demo.times)\n",
    "del(demo.states)"
   ]
  },
  {
   "cell_type": "code",
   "execution_count": null,
   "metadata": {},
   "outputs": [],
   "source": [
    "import subprocess"
   ]
  },
  {
   "cell_type": "code",
   "execution_count": null,
   "metadata": {},
   "outputs": [],
   "source": [
    "# Imports / set-up\n",
    "import numpy as np ;\n",
    "import os,sys ;\n",
    "sys.path.append(os.environ['REBX_DIR']) ;\n",
    "from examples.ephem_forces.ephem_forces import integration_function ;\n",
    "tstart=2456117.641933589 ;\n",
    "tstep=20 ;\n",
    "trange=1000 ;\n",
    "geocentric=False ;\n",
    "n_particles=1 ;\n",
    "reparsed_input=np.array([-2.0938349524664743,1.0009137200092553,0.41979849545335507,-0.004226738336365523, -0.009129140909705197, -0.0036271214539287102])\n",
    "\n",
    "\n",
    "# Call that will randomly crash with malloc ...\n",
    "integration_function(tstart, tstep, trange, geocentric,n_particles, reparsed_input)"
   ]
  },
  {
   "cell_type": "code",
   "execution_count": null,
   "metadata": {},
   "outputs": [],
   "source": [
    "state = np.array((3.338876057509365E+00, -9.176517956664152E-01, -5.038590450387491E-01, 2.805663678557796E-03, 7.550408259144305E-03, 2.980028369986096E-03))\n",
    "scales = np.logspace(-7, -3, 81)\n",
    "results_dict = {}\n",
    "\n",
    "for scale in scales:\n",
    "    print('%12.3e' % scale)\n",
    "\n",
    "    with open('test_ic', 'w') as f:\n",
    "        f.write('tepoch 2458849.5\\n')\n",
    "        f.write('tstart 2458849.5\\n')\n",
    "        f.write('tstep 20.0\\n')\n",
    "        f.write('trange 500.\\n')\n",
    "        f.write('geocentric 0\\n')\n",
    "\n",
    "        f.write('state\\n%23.16le %23.16le %23.16le\\n%23.16le %23.16le %23.16le\\n' % tuple(state))\n",
    "        for v in state+np.identity(6)*scale:\n",
    "            f.write('state\\n%23.16le %23.16le %23.16le\\n%23.16le %23.16le %23.16le\\n' % tuple(v))\n",
    "\n",
    "    output = subprocess.run([\"./rebound\", \"test_ic\", str(scale)], stdout=subprocess.PIPE)\n",
    "\n",
    "    arr =np.loadtxt('out_states.txt')\n",
    "\n",
    "    t = arr[:,0]\n",
    "\n",
    "    px = arr[:,1:4]\n",
    "    py = arr[:,7:10]\n",
    "    pz = arr[:,13:16]\n",
    "    \n",
    "    results_dict[scale] = t, px, py, pz\n",
    "    "
   ]
  },
  {
   "cell_type": "code",
   "execution_count": null,
   "metadata": {},
   "outputs": [],
   "source": [
    "def plot_results(results):\n",
    "    t, p0, p1, p2 = results\n",
    "    d = np.linalg.norm(p0, axis=1)\n",
    "    z = np.polyfit(t, d, deg=2)\n",
    "    f = np.poly1d(z)\n",
    "    plt.plot(t, d-f(t), label='x')\n",
    "    #plt.plot(t, d, label='x')\n",
    "    d = np.linalg.norm(p1, axis=1)\n",
    "    z = np.polyfit(t, d, deg=2)\n",
    "    f = np.poly1d(z)\n",
    "    plt.plot(t, d-f(t), label='y')\n",
    "    #plt.plot(t, d, label='y')\n",
    "    d = np.linalg.norm(p2, axis=1)\n",
    "    z = np.polyfit(t, d, deg=2)\n",
    "    f = np.poly1d(z)\n",
    "    plt.plot(t, d-f(t), label='z')\n",
    "    #plt.plot(t, d, label='z')\n",
    "    plt.legend()"
   ]
  },
  {
   "cell_type": "code",
   "execution_count": null,
   "metadata": {},
   "outputs": [],
   "source": [
    "prec_x = np.array(sorted([(k, np.linalg.norm(p0[-1]), np.linalg.norm(p1[-1]), np.linalg.norm(p2[-1])) for k, (t, p0, p1, p2) in results_dict.items()]))\n",
    "\n"
   ]
  },
  {
   "cell_type": "code",
   "execution_count": null,
   "metadata": {},
   "outputs": [],
   "source": [
    "plt.plot(prec_x[:,0], prec_x[:, 1])\n",
    "plt.plot(prec_x[:,0], prec_x[:, 2])\n",
    "plt.plot(prec_x[:,0], prec_x[:, 3])\n",
    "plt.yscale('log')\n",
    "plt.xscale ('log')"
   ]
  },
  {
   "cell_type": "code",
   "execution_count": null,
   "metadata": {},
   "outputs": [],
   "source": [
    "plot_results(results_dict[1e-6])"
   ]
  },
  {
   "cell_type": "code",
   "execution_count": null,
   "metadata": {},
   "outputs": [],
   "source": [
    "np.logspace(-8, -2, num=10)"
   ]
  },
  {
   "cell_type": "code",
   "execution_count": null,
   "metadata": {},
   "outputs": [],
   "source": [
    "output.stdout"
   ]
  },
  {
   "cell_type": "code",
   "execution_count": null,
   "metadata": {},
   "outputs": [],
   "source": [
    "np.linalg.solve(a, b)"
   ]
  },
  {
   "cell_type": "code",
   "execution_count": null,
   "metadata": {},
   "outputs": [],
   "source": [
    "a = np.array([[1, -1, -1], [2, 3, 2], [4, 3, -2]])"
   ]
  },
  {
   "cell_type": "code",
   "execution_count": null,
   "metadata": {},
   "outputs": [],
   "source": [
    "b = np.array([1, 8, -2])"
   ]
  },
  {
   "cell_type": "code",
   "execution_count": null,
   "metadata": {},
   "outputs": [],
   "source": [
    "np.linalg.solve(a, b)"
   ]
  },
  {
   "cell_type": "code",
   "execution_count": null,
   "metadata": {},
   "outputs": [],
   "source": [
    "a = np.array([[4, 6, -3], [3, 4, -6], [6, -3, 4]])"
   ]
  },
  {
   "cell_type": "code",
   "execution_count": null,
   "metadata": {},
   "outputs": [],
   "source": [
    "b = np.array([24, 2, 46])"
   ]
  },
  {
   "cell_type": "code",
   "execution_count": null,
   "metadata": {},
   "outputs": [],
   "source": [
    "np.linalg.solve(a, b)"
   ]
  },
  {
   "cell_type": "code",
   "execution_count": null,
   "metadata": {},
   "outputs": [],
   "source": [
    "from ctypes import *"
   ]
  },
  {
   "cell_type": "code",
   "execution_count": null,
   "metadata": {},
   "outputs": [],
   "source": [
    "libc = CDLL(\"libc.dylib\")"
   ]
  },
  {
   "cell_type": "code",
   "execution_count": null,
   "metadata": {},
   "outputs": [],
   "source": [
    "print(libc.time(None))  "
   ]
  },
  {
   "cell_type": "code",
   "execution_count": null,
   "metadata": {},
   "outputs": [],
   "source": [
    "c_int()"
   ]
  },
  {
   "cell_type": "code",
   "execution_count": null,
   "metadata": {},
   "outputs": [],
   "source": [
    "i = c_int(42)"
   ]
  },
  {
   "cell_type": "code",
   "execution_count": null,
   "metadata": {},
   "outputs": [],
   "source": [
    "print(i)"
   ]
  },
  {
   "cell_type": "code",
   "execution_count": null,
   "metadata": {},
   "outputs": [],
   "source": [
    "print(i.value)"
   ]
  },
  {
   "cell_type": "code",
   "execution_count": null,
   "metadata": {},
   "outputs": [],
   "source": [
    "i.value=-99\n",
    "print(i.value)"
   ]
  },
  {
   "cell_type": "code",
   "execution_count": null,
   "metadata": {},
   "outputs": [],
   "source": [
    "s = \"Hello, World\"\n",
    "c_s = c_wchar_p(s)\n",
    "print(c_s)"
   ]
  },
  {
   "cell_type": "code",
   "execution_count": null,
   "metadata": {},
   "outputs": [],
   "source": [
    "c_wchar_p(139966785747344)\n",
    "print(c_s.value)"
   ]
  },
  {
   "cell_type": "code",
   "execution_count": null,
   "metadata": {},
   "outputs": [],
   "source": [
    "print(c_s)"
   ]
  },
  {
   "cell_type": "code",
   "execution_count": null,
   "metadata": {},
   "outputs": [],
   "source": [
    "c_s.value = \"Hi, there\"\n",
    "print(c_s)              # the memory location has changed"
   ]
  },
  {
   "cell_type": "code",
   "execution_count": null,
   "metadata": {},
   "outputs": [],
   "source": [
    "c_wchar_p(139966783348904)\n",
    ">>> print(c_s.value)"
   ]
  },
  {
   "cell_type": "code",
   "execution_count": null,
   "metadata": {},
   "outputs": [],
   "source": [
    "print(s)                # first object is unchanged\n"
   ]
  },
  {
   "cell_type": "code",
   "execution_count": null,
   "metadata": {},
   "outputs": [],
   "source": [
    "p = create_string_buffer(3)            # create a 3 byte buffer, initialized to NUL bytes\n",
    "print(sizeof(p), repr(p.raw))"
   ]
  },
  {
   "cell_type": "code",
   "execution_count": null,
   "metadata": {},
   "outputs": [],
   "source": [
    "p = create_string_buffer(b\"Hello\")     # create a buffer containing a NUL terminated string\n",
    "print(sizeof(p), repr(p.raw))"
   ]
  },
  {
   "cell_type": "code",
   "execution_count": null,
   "metadata": {},
   "outputs": [],
   "source": [
    "print(repr(p.value))"
   ]
  },
  {
   "cell_type": "code",
   "execution_count": null,
   "metadata": {},
   "outputs": [],
   "source": [
    "p = create_string_buffer(b\"Hello\", 10) # create a 10 byte buffer\n",
    "print(sizeof(p), repr(p.raw))"
   ]
  },
  {
   "cell_type": "code",
   "execution_count": null,
   "metadata": {},
   "outputs": [],
   "source": [
    "p.value = b\"Hi\"\n",
    "print(sizeof(p), repr(p.raw))"
   ]
  },
  {
   "cell_type": "code",
   "execution_count": null,
   "metadata": {},
   "outputs": [],
   "source": [
    "printf = libc.printf\n",
    "printf(b\"Hello, %s\\n\", b\"World!\")"
   ]
  },
  {
   "cell_type": "code",
   "execution_count": null,
   "metadata": {},
   "outputs": [],
   "source": [
    "printf(b\"Hello, %S\\n\", \"World!\")"
   ]
  },
  {
   "cell_type": "code",
   "execution_count": null,
   "metadata": {},
   "outputs": [],
   "source": [
    "Hello, World!\n",
    "14\n",
    ">>> printf(b\"Hello, %S\\n\", \"World!\")\n",
    "Hello, World!\n",
    "14\n",
    ">>> printf(b\"%d bottles of beer\\n\", 42)\n",
    "42 bottles of beer\n",
    "19\n",
    ">>> printf(b\"%f bottles of beer\\n\", 42.5)\n",
    "Traceback (most recent call last):\n",
    "  File \"<stdin>\", line 1, in <module>\n",
    "ArgumentError: argument 2: exceptions.TypeError: Don't know how to convert parameter 2\n",
    ">>>"
   ]
  },
  {
   "cell_type": "code",
   "execution_count": null,
   "metadata": {},
   "outputs": [],
   "source": [
    "np.power(213/4, 0.5)"
   ]
  },
  {
   "cell_type": "code",
   "execution_count": null,
   "metadata": {},
   "outputs": [],
   "source": [
    "0.17*12"
   ]
  },
  {
   "cell_type": "code",
   "execution_count": null,
   "metadata": {},
   "outputs": [],
   "source": [
    "0.2*8"
   ]
  },
  {
   "cell_type": "code",
   "execution_count": null,
   "metadata": {},
   "outputs": [],
   "source": [
    "5*39192/3"
   ]
  },
  {
   "cell_type": "code",
   "execution_count": null,
   "metadata": {},
   "outputs": [],
   "source": [
    "712/5274"
   ]
  },
  {
   "cell_type": "code",
   "execution_count": null,
   "metadata": {},
   "outputs": [],
   "source": [
    "51414/7703674"
   ]
  },
  {
   "cell_type": "code",
   "execution_count": null,
   "metadata": {},
   "outputs": [],
   "source": [
    "5070/51414"
   ]
  },
  {
   "cell_type": "code",
   "execution_count": null,
   "metadata": {},
   "outputs": [],
   "source": [
    "25*5/8"
   ]
  },
  {
   "cell_type": "code",
   "execution_count": null,
   "metadata": {},
   "outputs": [],
   "source": [
    "4*6*9/3.62"
   ]
  },
  {
   "cell_type": "code",
   "execution_count": null,
   "metadata": {},
   "outputs": [],
   "source": [
    "3*6*9/2.42"
   ]
  },
  {
   "cell_type": "code",
   "execution_count": null,
   "metadata": {},
   "outputs": [],
   "source": [
    "2*7*9/4.84"
   ]
  },
  {
   "cell_type": "code",
   "execution_count": null,
   "metadata": {},
   "outputs": [],
   "source": []
  }
 ],
 "metadata": {
  "anaconda-cloud": {},
  "kernelspec": {
   "display_name": "Python 3",
   "language": "python",
   "name": "python3"
  },
  "language_info": {
   "codemirror_mode": {
    "name": "ipython",
    "version": 3
   },
   "file_extension": ".py",
   "mimetype": "text/x-python",
   "name": "python",
   "nbconvert_exporter": "python",
   "pygments_lexer": "ipython3",
   "version": "3.8.3"
  }
 },
 "nbformat": 4,
 "nbformat_minor": 1
}
